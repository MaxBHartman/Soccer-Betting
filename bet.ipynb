{
 "cells": [
  {
   "cell_type": "code",
   "execution_count": 82,
   "metadata": {},
   "outputs": [],
   "source": [
    "import pandas as pd\n",
    "import numpy as np\n",
    "import tensorflow as tf\n",
    "from keras.models import Sequential\n",
    "from keras.layers import Dense, Dropout\n",
    "from keras.callbacks import EarlyStopping"
   ]
  },
  {
   "cell_type": "code",
   "execution_count": null,
   "metadata": {},
   "outputs": [],
   "source": [
    "df = pd.read_csv(\"/Users/maxhartman/Desktop/Soccer Betting/Soccer-Betting/england-premier-league-matches-2018-to-2019-stats.csv\")\n",
    "df = df.sample(frac=1).reset_index(drop=True)"
   ]
  },
  {
   "cell_type": "markdown",
   "metadata": {},
   "source": [
    "---\n",
    "#### Create input/output data\n",
    "---"
   ]
  },
  {
   "cell_type": "code",
   "execution_count": 245,
   "metadata": {},
   "outputs": [],
   "source": [
    "Y = df[\"result\"]\n",
    "X = df.drop(\"result\", axis=1)\n",
    "X=(X-X.min())/(X.max()-X.min())"
   ]
  },
  {
   "cell_type": "markdown",
   "metadata": {},
   "source": [
    "##### See input format"
   ]
  },
  {
   "cell_type": "code",
   "execution_count": 273,
   "metadata": {},
   "outputs": [
    {
     "data": {
      "text/html": [
       "<div>\n",
       "<style scoped>\n",
       "    .dataframe tbody tr th:only-of-type {\n",
       "        vertical-align: middle;\n",
       "    }\n",
       "\n",
       "    .dataframe tbody tr th {\n",
       "        vertical-align: top;\n",
       "    }\n",
       "\n",
       "    .dataframe thead th {\n",
       "        text-align: right;\n",
       "    }\n",
       "</style>\n",
       "<table border=\"1\" class=\"dataframe\">\n",
       "  <thead>\n",
       "    <tr style=\"text-align: right;\">\n",
       "      <th></th>\n",
       "      <th>attendance</th>\n",
       "      <th>Game Week</th>\n",
       "      <th>Pre-Match PPG (Home)</th>\n",
       "      <th>Pre-Match PPG (Away)</th>\n",
       "      <th>home_ppg</th>\n",
       "      <th>away_ppg</th>\n",
       "      <th>away_team_corner_count</th>\n",
       "      <th>home_team_yellow_cards</th>\n",
       "      <th>home_team_red_cards</th>\n",
       "      <th>away_team_yellow_cards</th>\n",
       "      <th>...</th>\n",
       "      <th>average_cards_per_match_pre_match</th>\n",
       "      <th>odds_ft_home_team_win</th>\n",
       "      <th>odds_ft_draw</th>\n",
       "      <th>odds_ft_away_team_win</th>\n",
       "      <th>odds_ft_over15</th>\n",
       "      <th>odds_ft_over25</th>\n",
       "      <th>odds_ft_over35</th>\n",
       "      <th>odds_ft_over45</th>\n",
       "      <th>odds_btts_yes</th>\n",
       "      <th>odds_btts_no</th>\n",
       "    </tr>\n",
       "  </thead>\n",
       "  <tbody>\n",
       "    <tr>\n",
       "      <th>0</th>\n",
       "      <td>0.700527</td>\n",
       "      <td>0.135135</td>\n",
       "      <td>0.500000</td>\n",
       "      <td>0.333333</td>\n",
       "      <td>0.801688</td>\n",
       "      <td>0.383495</td>\n",
       "      <td>0.642857</td>\n",
       "      <td>0.333333</td>\n",
       "      <td>0.0</td>\n",
       "      <td>0.2</td>\n",
       "      <td>...</td>\n",
       "      <td>0.68750</td>\n",
       "      <td>0.017200</td>\n",
       "      <td>0.171206</td>\n",
       "      <td>0.147250</td>\n",
       "      <td>0.134615</td>\n",
       "      <td>0.135484</td>\n",
       "      <td>0.111922</td>\n",
       "      <td>0.102362</td>\n",
       "      <td>0.094891</td>\n",
       "      <td>0.786325</td>\n",
       "    </tr>\n",
       "    <tr>\n",
       "      <th>1</th>\n",
       "      <td>0.129541</td>\n",
       "      <td>0.756757</td>\n",
       "      <td>0.436667</td>\n",
       "      <td>0.403333</td>\n",
       "      <td>0.312236</td>\n",
       "      <td>0.616505</td>\n",
       "      <td>0.357143</td>\n",
       "      <td>0.166667</td>\n",
       "      <td>0.0</td>\n",
       "      <td>0.4</td>\n",
       "      <td>...</td>\n",
       "      <td>0.47875</td>\n",
       "      <td>0.085045</td>\n",
       "      <td>0.023346</td>\n",
       "      <td>0.036752</td>\n",
       "      <td>0.557692</td>\n",
       "      <td>0.548387</td>\n",
       "      <td>0.537713</td>\n",
       "      <td>0.389764</td>\n",
       "      <td>0.270073</td>\n",
       "      <td>0.487179</td>\n",
       "    </tr>\n",
       "    <tr>\n",
       "      <th>2</th>\n",
       "      <td>0.307756</td>\n",
       "      <td>0.648649</td>\n",
       "      <td>0.390000</td>\n",
       "      <td>0.273333</td>\n",
       "      <td>0.244726</td>\n",
       "      <td>0.281553</td>\n",
       "      <td>0.500000</td>\n",
       "      <td>0.166667</td>\n",
       "      <td>0.0</td>\n",
       "      <td>0.4</td>\n",
       "      <td>...</td>\n",
       "      <td>0.35375</td>\n",
       "      <td>0.108935</td>\n",
       "      <td>0.042802</td>\n",
       "      <td>0.027144</td>\n",
       "      <td>0.442308</td>\n",
       "      <td>0.432258</td>\n",
       "      <td>0.416058</td>\n",
       "      <td>0.279528</td>\n",
       "      <td>0.204380</td>\n",
       "      <td>0.615385</td>\n",
       "    </tr>\n",
       "    <tr>\n",
       "      <th>3</th>\n",
       "      <td>0.298940</td>\n",
       "      <td>0.945946</td>\n",
       "      <td>0.413333</td>\n",
       "      <td>0.293333</td>\n",
       "      <td>0.312236</td>\n",
       "      <td>0.281553</td>\n",
       "      <td>0.214286</td>\n",
       "      <td>0.333333</td>\n",
       "      <td>0.0</td>\n",
       "      <td>0.2</td>\n",
       "      <td>...</td>\n",
       "      <td>0.47000</td>\n",
       "      <td>0.042045</td>\n",
       "      <td>0.066148</td>\n",
       "      <td>0.070382</td>\n",
       "      <td>0.326923</td>\n",
       "      <td>0.329032</td>\n",
       "      <td>0.306569</td>\n",
       "      <td>0.173228</td>\n",
       "      <td>0.160584</td>\n",
       "      <td>0.700855</td>\n",
       "    </tr>\n",
       "    <tr>\n",
       "      <th>4</th>\n",
       "      <td>0.153507</td>\n",
       "      <td>0.513514</td>\n",
       "      <td>0.260000</td>\n",
       "      <td>0.520000</td>\n",
       "      <td>0.312236</td>\n",
       "      <td>0.412621</td>\n",
       "      <td>0.357143</td>\n",
       "      <td>0.166667</td>\n",
       "      <td>0.0</td>\n",
       "      <td>0.8</td>\n",
       "      <td>...</td>\n",
       "      <td>0.50000</td>\n",
       "      <td>0.132824</td>\n",
       "      <td>0.035019</td>\n",
       "      <td>0.022340</td>\n",
       "      <td>0.500000</td>\n",
       "      <td>0.483871</td>\n",
       "      <td>0.452555</td>\n",
       "      <td>0.370079</td>\n",
       "      <td>0.189781</td>\n",
       "      <td>0.487179</td>\n",
       "    </tr>\n",
       "  </tbody>\n",
       "</table>\n",
       "<p>5 rows × 50 columns</p>\n",
       "</div>"
      ],
      "text/plain": [
       "   attendance  Game Week  Pre-Match PPG (Home)  Pre-Match PPG (Away)  \\\n",
       "0    0.700527   0.135135              0.500000              0.333333   \n",
       "1    0.129541   0.756757              0.436667              0.403333   \n",
       "2    0.307756   0.648649              0.390000              0.273333   \n",
       "3    0.298940   0.945946              0.413333              0.293333   \n",
       "4    0.153507   0.513514              0.260000              0.520000   \n",
       "\n",
       "   home_ppg  away_ppg  away_team_corner_count  home_team_yellow_cards  \\\n",
       "0  0.801688  0.383495                0.642857                0.333333   \n",
       "1  0.312236  0.616505                0.357143                0.166667   \n",
       "2  0.244726  0.281553                0.500000                0.166667   \n",
       "3  0.312236  0.281553                0.214286                0.333333   \n",
       "4  0.312236  0.412621                0.357143                0.166667   \n",
       "\n",
       "   home_team_red_cards  away_team_yellow_cards  ...  \\\n",
       "0                  0.0                     0.2  ...   \n",
       "1                  0.0                     0.4  ...   \n",
       "2                  0.0                     0.4  ...   \n",
       "3                  0.0                     0.2  ...   \n",
       "4                  0.0                     0.8  ...   \n",
       "\n",
       "   average_cards_per_match_pre_match  odds_ft_home_team_win  odds_ft_draw  \\\n",
       "0                            0.68750               0.017200      0.171206   \n",
       "1                            0.47875               0.085045      0.023346   \n",
       "2                            0.35375               0.108935      0.042802   \n",
       "3                            0.47000               0.042045      0.066148   \n",
       "4                            0.50000               0.132824      0.035019   \n",
       "\n",
       "   odds_ft_away_team_win  odds_ft_over15  odds_ft_over25  odds_ft_over35  \\\n",
       "0               0.147250        0.134615        0.135484        0.111922   \n",
       "1               0.036752        0.557692        0.548387        0.537713   \n",
       "2               0.027144        0.442308        0.432258        0.416058   \n",
       "3               0.070382        0.326923        0.329032        0.306569   \n",
       "4               0.022340        0.500000        0.483871        0.452555   \n",
       "\n",
       "   odds_ft_over45  odds_btts_yes  odds_btts_no  \n",
       "0        0.102362       0.094891      0.786325  \n",
       "1        0.389764       0.270073      0.487179  \n",
       "2        0.279528       0.204380      0.615385  \n",
       "3        0.173228       0.160584      0.700855  \n",
       "4        0.370079       0.189781      0.487179  \n",
       "\n",
       "[5 rows x 50 columns]"
      ]
     },
     "execution_count": 273,
     "metadata": {},
     "output_type": "execute_result"
    }
   ],
   "source": [
    "X.head()"
   ]
  },
  {
   "cell_type": "markdown",
   "metadata": {},
   "source": [
    "##### See output format"
   ]
  },
  {
   "cell_type": "code",
   "execution_count": 268,
   "metadata": {},
   "outputs": [
    {
     "data": {
      "text/plain": [
       "(380, 50)"
      ]
     },
     "execution_count": 268,
     "metadata": {},
     "output_type": "execute_result"
    }
   ],
   "source": [
    "X.shape"
   ]
  },
  {
   "cell_type": "code",
   "execution_count": 3,
   "metadata": {},
   "outputs": [
    {
     "ename": "AttributeError",
     "evalue": "module 'sklearn.metrics._dist_metrics' has no attribute 'DistanceMetric32'",
     "output_type": "error",
     "traceback": [
      "\u001b[0;31m---------------------------------------------------------------------------\u001b[0m",
      "\u001b[0;31mAttributeError\u001b[0m                            Traceback (most recent call last)",
      "Cell \u001b[0;32mIn[3], line 2\u001b[0m\n\u001b[1;32m      1\u001b[0m \u001b[38;5;28;01mimport\u001b[39;00m \u001b[38;5;21;01mnumpy\u001b[39;00m \u001b[38;5;28;01mas\u001b[39;00m \u001b[38;5;21;01mnp\u001b[39;00m\n\u001b[0;32m----> 2\u001b[0m \u001b[38;5;28;01mfrom\u001b[39;00m \u001b[38;5;21;01msklearn\u001b[39;00m\u001b[38;5;21;01m.\u001b[39;00m\u001b[38;5;21;01mmodel_selection\u001b[39;00m \u001b[38;5;28;01mimport\u001b[39;00m train_test_split\n\u001b[1;32m      4\u001b[0m X_train, X_test, Y_train, Y_test \u001b[38;5;241m=\u001b[39m train_test_split(X, Y, test_size\u001b[38;5;241m=\u001b[39m\u001b[38;5;241m0.2\u001b[39m, random_state\u001b[38;5;241m=\u001b[39m\u001b[38;5;241m42\u001b[39m)\n\u001b[1;32m      5\u001b[0m X_train \u001b[38;5;241m=\u001b[39m np\u001b[38;5;241m.\u001b[39masarray(X_train)\u001b[38;5;241m.\u001b[39mastype(\u001b[38;5;124m'\u001b[39m\u001b[38;5;124mfloat32\u001b[39m\u001b[38;5;124m'\u001b[39m)\n",
      "File \u001b[0;32m~/opt/anaconda3/envs/prembet/lib/python3.10/site-packages/sklearn/model_selection/__init__.py:23\u001b[0m\n\u001b[1;32m     20\u001b[0m \u001b[39mfrom\u001b[39;00m \u001b[39m.\u001b[39;00m\u001b[39m_split\u001b[39;00m \u001b[39mimport\u001b[39;00m train_test_split\n\u001b[1;32m     21\u001b[0m \u001b[39mfrom\u001b[39;00m \u001b[39m.\u001b[39;00m\u001b[39m_split\u001b[39;00m \u001b[39mimport\u001b[39;00m check_cv\n\u001b[0;32m---> 23\u001b[0m \u001b[39mfrom\u001b[39;00m \u001b[39m.\u001b[39;00m\u001b[39m_validation\u001b[39;00m \u001b[39mimport\u001b[39;00m cross_val_score\n\u001b[1;32m     24\u001b[0m \u001b[39mfrom\u001b[39;00m \u001b[39m.\u001b[39;00m\u001b[39m_validation\u001b[39;00m \u001b[39mimport\u001b[39;00m cross_val_predict\n\u001b[1;32m     25\u001b[0m \u001b[39mfrom\u001b[39;00m \u001b[39m.\u001b[39;00m\u001b[39m_validation\u001b[39;00m \u001b[39mimport\u001b[39;00m cross_validate\n",
      "File \u001b[0;32m~/opt/anaconda3/envs/prembet/lib/python3.10/site-packages/sklearn/model_selection/_validation.py:32\u001b[0m\n\u001b[1;32m     30\u001b[0m \u001b[39mfrom\u001b[39;00m \u001b[39m.\u001b[39;00m\u001b[39m.\u001b[39;00m\u001b[39mutils\u001b[39;00m\u001b[39m.\u001b[39;00m\u001b[39mfixes\u001b[39;00m \u001b[39mimport\u001b[39;00m delayed\n\u001b[1;32m     31\u001b[0m \u001b[39mfrom\u001b[39;00m \u001b[39m.\u001b[39;00m\u001b[39m.\u001b[39;00m\u001b[39mutils\u001b[39;00m\u001b[39m.\u001b[39;00m\u001b[39mmetaestimators\u001b[39;00m \u001b[39mimport\u001b[39;00m _safe_split\n\u001b[0;32m---> 32\u001b[0m \u001b[39mfrom\u001b[39;00m \u001b[39m.\u001b[39;00m\u001b[39m.\u001b[39;00m\u001b[39mmetrics\u001b[39;00m \u001b[39mimport\u001b[39;00m check_scoring\n\u001b[1;32m     33\u001b[0m \u001b[39mfrom\u001b[39;00m \u001b[39m.\u001b[39;00m\u001b[39m.\u001b[39;00m\u001b[39mmetrics\u001b[39;00m\u001b[39m.\u001b[39;00m\u001b[39m_scorer\u001b[39;00m \u001b[39mimport\u001b[39;00m _check_multimetric_scoring, _MultimetricScorer\n\u001b[1;32m     34\u001b[0m \u001b[39mfrom\u001b[39;00m \u001b[39m.\u001b[39;00m\u001b[39m.\u001b[39;00m\u001b[39mexceptions\u001b[39;00m \u001b[39mimport\u001b[39;00m FitFailedWarning\n",
      "File \u001b[0;32m~/opt/anaconda3/envs/prembet/lib/python3.10/site-packages/sklearn/metrics/__init__.py:41\u001b[0m\n\u001b[1;32m     37\u001b[0m \u001b[39mfrom\u001b[39;00m \u001b[39m.\u001b[39;00m\u001b[39m_classification\u001b[39;00m \u001b[39mimport\u001b[39;00m multilabel_confusion_matrix\n\u001b[1;32m     39\u001b[0m \u001b[39mfrom\u001b[39;00m \u001b[39m.\u001b[39;00m\u001b[39m_dist_metrics\u001b[39;00m \u001b[39mimport\u001b[39;00m DistanceMetric\n\u001b[0;32m---> 41\u001b[0m \u001b[39mfrom\u001b[39;00m \u001b[39m.\u001b[39;00m \u001b[39mimport\u001b[39;00m cluster\n\u001b[1;32m     42\u001b[0m \u001b[39mfrom\u001b[39;00m \u001b[39m.\u001b[39;00m\u001b[39mcluster\u001b[39;00m \u001b[39mimport\u001b[39;00m adjusted_mutual_info_score\n\u001b[1;32m     43\u001b[0m \u001b[39mfrom\u001b[39;00m \u001b[39m.\u001b[39;00m\u001b[39mcluster\u001b[39;00m \u001b[39mimport\u001b[39;00m adjusted_rand_score\n",
      "File \u001b[0;32m~/opt/anaconda3/envs/prembet/lib/python3.10/site-packages/sklearn/metrics/cluster/__init__.py:22\u001b[0m\n\u001b[1;32m     20\u001b[0m \u001b[39mfrom\u001b[39;00m \u001b[39m.\u001b[39;00m\u001b[39m_supervised\u001b[39;00m \u001b[39mimport\u001b[39;00m fowlkes_mallows_score\n\u001b[1;32m     21\u001b[0m \u001b[39mfrom\u001b[39;00m \u001b[39m.\u001b[39;00m\u001b[39m_supervised\u001b[39;00m \u001b[39mimport\u001b[39;00m entropy\n\u001b[0;32m---> 22\u001b[0m \u001b[39mfrom\u001b[39;00m \u001b[39m.\u001b[39;00m\u001b[39m_unsupervised\u001b[39;00m \u001b[39mimport\u001b[39;00m silhouette_samples\n\u001b[1;32m     23\u001b[0m \u001b[39mfrom\u001b[39;00m \u001b[39m.\u001b[39;00m\u001b[39m_unsupervised\u001b[39;00m \u001b[39mimport\u001b[39;00m silhouette_score\n\u001b[1;32m     24\u001b[0m \u001b[39mfrom\u001b[39;00m \u001b[39m.\u001b[39;00m\u001b[39m_unsupervised\u001b[39;00m \u001b[39mimport\u001b[39;00m calinski_harabasz_score\n",
      "File \u001b[0;32m~/opt/anaconda3/envs/prembet/lib/python3.10/site-packages/sklearn/metrics/cluster/_unsupervised.py:16\u001b[0m\n\u001b[1;32m     14\u001b[0m \u001b[39mfrom\u001b[39;00m \u001b[39m.\u001b[39;00m\u001b[39m.\u001b[39;00m\u001b[39m.\u001b[39;00m\u001b[39mutils\u001b[39;00m \u001b[39mimport\u001b[39;00m check_X_y\n\u001b[1;32m     15\u001b[0m \u001b[39mfrom\u001b[39;00m \u001b[39m.\u001b[39;00m\u001b[39m.\u001b[39;00m\u001b[39m.\u001b[39;00m\u001b[39mutils\u001b[39;00m \u001b[39mimport\u001b[39;00m _safe_indexing\n\u001b[0;32m---> 16\u001b[0m \u001b[39mfrom\u001b[39;00m \u001b[39m.\u001b[39;00m\u001b[39m.\u001b[39;00m\u001b[39mpairwise\u001b[39;00m \u001b[39mimport\u001b[39;00m pairwise_distances_chunked\n\u001b[1;32m     17\u001b[0m \u001b[39mfrom\u001b[39;00m \u001b[39m.\u001b[39;00m\u001b[39m.\u001b[39;00m\u001b[39mpairwise\u001b[39;00m \u001b[39mimport\u001b[39;00m pairwise_distances\n\u001b[1;32m     18\u001b[0m \u001b[39mfrom\u001b[39;00m \u001b[39m.\u001b[39;00m\u001b[39m.\u001b[39;00m\u001b[39m.\u001b[39;00m\u001b[39mpreprocessing\u001b[39;00m \u001b[39mimport\u001b[39;00m LabelEncoder\n",
      "File \u001b[0;32m~/opt/anaconda3/envs/prembet/lib/python3.10/site-packages/sklearn/metrics/pairwise.py:33\u001b[0m\n\u001b[1;32m     30\u001b[0m \u001b[39mfrom\u001b[39;00m \u001b[39m.\u001b[39;00m\u001b[39m.\u001b[39;00m\u001b[39mutils\u001b[39;00m\u001b[39m.\u001b[39;00m\u001b[39mfixes\u001b[39;00m \u001b[39mimport\u001b[39;00m delayed\n\u001b[1;32m     31\u001b[0m \u001b[39mfrom\u001b[39;00m \u001b[39m.\u001b[39;00m\u001b[39m.\u001b[39;00m\u001b[39mutils\u001b[39;00m\u001b[39m.\u001b[39;00m\u001b[39mfixes\u001b[39;00m \u001b[39mimport\u001b[39;00m sp_version, parse_version\n\u001b[0;32m---> 33\u001b[0m \u001b[39mfrom\u001b[39;00m \u001b[39m.\u001b[39;00m\u001b[39m_pairwise_distances_reduction\u001b[39;00m \u001b[39mimport\u001b[39;00m PairwiseDistancesArgKmin\n\u001b[1;32m     34\u001b[0m \u001b[39mfrom\u001b[39;00m \u001b[39m.\u001b[39;00m\u001b[39m_pairwise_fast\u001b[39;00m \u001b[39mimport\u001b[39;00m _chi2_kernel_fast, _sparse_manhattan\n\u001b[1;32m     35\u001b[0m \u001b[39mfrom\u001b[39;00m \u001b[39m.\u001b[39;00m\u001b[39m.\u001b[39;00m\u001b[39mexceptions\u001b[39;00m \u001b[39mimport\u001b[39;00m DataConversionWarning\n",
      "File \u001b[0;32m~/opt/anaconda3/envs/prembet/lib/python3.10/site-packages/sklearn/metrics/_pairwise_distances_reduction/__init__.py:89\u001b[0m\n\u001b[1;32m      1\u001b[0m \u001b[39m# Pairwise Distances Reductions\u001b[39;00m\n\u001b[1;32m      2\u001b[0m \u001b[39m# =============================\u001b[39;00m\n\u001b[1;32m      3\u001b[0m \u001b[39m#\u001b[39;00m\n\u001b[0;32m   (...)\u001b[0m\n\u001b[1;32m     85\u001b[0m \u001b[39m#    using Generalized Matrix Multiplication over `float64` data (see the\u001b[39;00m\n\u001b[1;32m     86\u001b[0m \u001b[39m#    docstring of :class:`GEMMTermComputer64` for details).\u001b[39;00m\n\u001b[0;32m---> 89\u001b[0m \u001b[39mfrom\u001b[39;00m \u001b[39m.\u001b[39;00m\u001b[39m_dispatcher\u001b[39;00m \u001b[39mimport\u001b[39;00m (\n\u001b[1;32m     90\u001b[0m     BaseDistancesReductionDispatcher,\n\u001b[1;32m     91\u001b[0m     ArgKmin,\n\u001b[1;32m     92\u001b[0m     RadiusNeighbors,\n\u001b[1;32m     93\u001b[0m     sqeuclidean_row_norms,\n\u001b[1;32m     94\u001b[0m )\n\u001b[1;32m     96\u001b[0m __all__ \u001b[39m=\u001b[39m [\n\u001b[1;32m     97\u001b[0m     \u001b[39m\"\u001b[39m\u001b[39mBaseDistancesReductionDispatcher\u001b[39m\u001b[39m\"\u001b[39m,\n\u001b[1;32m     98\u001b[0m     \u001b[39m\"\u001b[39m\u001b[39mArgKmin\u001b[39m\u001b[39m\"\u001b[39m,\n\u001b[1;32m     99\u001b[0m     \u001b[39m\"\u001b[39m\u001b[39mRadiusNeighbors\u001b[39m\u001b[39m\"\u001b[39m,\n\u001b[1;32m    100\u001b[0m     \u001b[39m\"\u001b[39m\u001b[39msqeuclidean_row_norms\u001b[39m\u001b[39m\"\u001b[39m,\n\u001b[1;32m    101\u001b[0m ]\n",
      "File \u001b[0;32m~/opt/anaconda3/envs/prembet/lib/python3.10/site-packages/sklearn/metrics/_pairwise_distances_reduction/_dispatcher.py:11\u001b[0m\n\u001b[1;32m      7\u001b[0m \u001b[39mfrom\u001b[39;00m \u001b[39mscipy\u001b[39;00m\u001b[39m.\u001b[39;00m\u001b[39msparse\u001b[39;00m \u001b[39mimport\u001b[39;00m isspmatrix_csr\n\u001b[1;32m      9\u001b[0m \u001b[39mfrom\u001b[39;00m \u001b[39m.\u001b[39;00m\u001b[39m.\u001b[39;00m\u001b[39m_dist_metrics\u001b[39;00m \u001b[39mimport\u001b[39;00m BOOL_METRICS, METRIC_MAPPING\n\u001b[0;32m---> 11\u001b[0m \u001b[39mfrom\u001b[39;00m \u001b[39m.\u001b[39;00m\u001b[39m_base\u001b[39;00m \u001b[39mimport\u001b[39;00m _sqeuclidean_row_norms32, _sqeuclidean_row_norms64\n\u001b[1;32m     12\u001b[0m \u001b[39mfrom\u001b[39;00m \u001b[39m.\u001b[39;00m\u001b[39m_argkmin\u001b[39;00m \u001b[39mimport\u001b[39;00m (\n\u001b[1;32m     13\u001b[0m     ArgKmin64,\n\u001b[1;32m     14\u001b[0m     ArgKmin32,\n\u001b[1;32m     15\u001b[0m )\n\u001b[1;32m     16\u001b[0m \u001b[39mfrom\u001b[39;00m \u001b[39m.\u001b[39;00m\u001b[39m_radius_neighbors\u001b[39;00m \u001b[39mimport\u001b[39;00m (\n\u001b[1;32m     17\u001b[0m     RadiusNeighbors64,\n\u001b[1;32m     18\u001b[0m     RadiusNeighbors32,\n\u001b[1;32m     19\u001b[0m )\n",
      "File \u001b[0;32msklearn/metrics/_pairwise_distances_reduction/_base.pyx:1\u001b[0m, in \u001b[0;36minit sklearn.metrics._pairwise_distances_reduction._base\u001b[0;34m()\u001b[0m\n",
      "\u001b[0;31mAttributeError\u001b[0m: module 'sklearn.metrics._dist_metrics' has no attribute 'DistanceMetric32'"
     ]
    }
   ],
   "source": [
    "import numpy as np\n",
    "from sklearn.model_selection import train_test_split\n",
    "\n",
    "X_train, X_test, Y_train, Y_test = train_test_split(X, Y, test_size=0.2, random_state=42)\n",
    "X_train = np.asarray(X_train).astype('float32')"
   ]
  },
  {
   "cell_type": "markdown",
   "metadata": {},
   "source": [
    "---\n",
    "#### Building the model\n",
    "---"
   ]
  },
  {
   "cell_type": "code",
   "execution_count": 261,
   "metadata": {},
   "outputs": [],
   "source": [
    "model = Sequential()\n",
    "model.add(Dense(16, input_shape=(X.shape[1],), activation='relu'))\n",
    "model.add(Dense(8, input_shape=(X.shape[1],), activation='relu'))\n",
    "model.add(Dense(8, input_shape=(X.shape[1],), activation='relu'))\n",
    "model.add(Dense(1, activation='relu'))\n",
    "\n",
    "model.compile(optimizer='rmsprop', \n",
    "              loss='categorical_crossentropy',\n",
    "              metrics=['accuracy'])"
   ]
  },
  {
   "cell_type": "code",
   "execution_count": 265,
   "metadata": {},
   "outputs": [
    {
     "name": "stdout",
     "output_type": "stream",
     "text": [
      "Epoch 1/8000000\n",
      "11/11 [==============================] - 0s 6ms/step - loss: nan - accuracy: 0.4689 - val_loss: nan - val_accuracy: 0.4516\n",
      "Epoch 2/8000000\n",
      "11/11 [==============================] - 0s 4ms/step - loss: nan - accuracy: 0.4689 - val_loss: nan - val_accuracy: 0.4516\n",
      "Epoch 3/8000000\n",
      "11/11 [==============================] - 0s 4ms/step - loss: nan - accuracy: 0.4689 - val_loss: nan - val_accuracy: 0.4516\n",
      "Epoch 4/8000000\n",
      " 1/11 [=>............................] - ETA: 0s - loss: nan - accuracy: 0.5200"
     ]
    },
    {
     "name": "stderr",
     "output_type": "stream",
     "text": [
      "/Users/maxhartman/opt/anaconda3/envs/prembet/lib/python3.10/site-packages/keras/engine/data_adapter.py:1699: FutureWarning: The behavior of `series[i:j]` with an integer-dtype index is deprecated. In a future version, this will be treated as *label-based* indexing, consistent with e.g. `series[i]` lookups. To retain the old behavior, use `series.iloc[i:j]`. To get the future behavior, use `series.loc[i:j]`.\n",
      "  return t[start:end]\n"
     ]
    },
    {
     "name": "stdout",
     "output_type": "stream",
     "text": [
      "11/11 [==============================] - 0s 4ms/step - loss: nan - accuracy: 0.4689 - val_loss: nan - val_accuracy: 0.4516\n",
      "Epoch 5/8000000\n",
      "11/11 [==============================] - 0s 4ms/step - loss: nan - accuracy: 0.4689 - val_loss: nan - val_accuracy: 0.4516\n",
      "Epoch 6/8000000\n",
      "11/11 [==============================] - 0s 3ms/step - loss: nan - accuracy: 0.4689 - val_loss: nan - val_accuracy: 0.4516\n",
      "Epoch 7/8000000\n",
      "11/11 [==============================] - 0s 3ms/step - loss: nan - accuracy: 0.4689 - val_loss: nan - val_accuracy: 0.4516\n",
      "Epoch 8/8000000\n",
      "11/11 [==============================] - 0s 3ms/step - loss: nan - accuracy: 0.4689 - val_loss: nan - val_accuracy: 0.4516\n",
      "Epoch 9/8000000\n",
      "11/11 [==============================] - 0s 3ms/step - loss: nan - accuracy: 0.4689 - val_loss: nan - val_accuracy: 0.4516\n",
      "Epoch 10/8000000\n",
      "11/11 [==============================] - 0s 3ms/step - loss: nan - accuracy: 0.4689 - val_loss: nan - val_accuracy: 0.4516\n",
      "Epoch 11/8000000\n",
      "11/11 [==============================] - 0s 3ms/step - loss: nan - accuracy: 0.4689 - val_loss: nan - val_accuracy: 0.4516\n",
      "Epoch 12/8000000\n",
      "11/11 [==============================] - 0s 3ms/step - loss: nan - accuracy: 0.4689 - val_loss: nan - val_accuracy: 0.4516\n",
      "Epoch 13/8000000\n",
      "11/11 [==============================] - 0s 3ms/step - loss: nan - accuracy: 0.4689 - val_loss: nan - val_accuracy: 0.4516\n",
      "Epoch 14/8000000\n",
      "11/11 [==============================] - 0s 3ms/step - loss: nan - accuracy: 0.4689 - val_loss: nan - val_accuracy: 0.4516\n",
      "Epoch 15/8000000\n",
      "11/11 [==============================] - 0s 3ms/step - loss: nan - accuracy: 0.4689 - val_loss: nan - val_accuracy: 0.4516\n",
      "Epoch 16/8000000\n",
      "11/11 [==============================] - 0s 4ms/step - loss: nan - accuracy: 0.4689 - val_loss: nan - val_accuracy: 0.4516\n",
      "Epoch 17/8000000\n",
      "11/11 [==============================] - 0s 3ms/step - loss: nan - accuracy: 0.4689 - val_loss: nan - val_accuracy: 0.4516\n",
      "Epoch 18/8000000\n",
      "11/11 [==============================] - 0s 3ms/step - loss: nan - accuracy: 0.4689 - val_loss: nan - val_accuracy: 0.4516\n",
      "Epoch 19/8000000\n",
      "11/11 [==============================] - 0s 3ms/step - loss: nan - accuracy: 0.4689 - val_loss: nan - val_accuracy: 0.4516\n",
      "Epoch 20/8000000\n",
      "11/11 [==============================] - 0s 3ms/step - loss: nan - accuracy: 0.4689 - val_loss: nan - val_accuracy: 0.4516\n"
     ]
    }
   ],
   "source": [
    "import keras\n",
    "from keras.callbacks import EarlyStopping\n",
    "\n",
    "es = keras.callbacks.EarlyStopping(monitor='val_loss', \n",
    "                                   mode='min',\n",
    "                                   patience=20, \n",
    "                                   )\n",
    "\n",
    "history = model.fit(X_train,\n",
    "                    Y_train,\n",
    "                    callbacks=[es],\n",
    "                    epochs=8000000,\n",
    "                    batch_size=25,\n",
    "                    shuffle=True,\n",
    "                    validation_split=0.1,\n",
    "                    verbose=1)"
   ]
  }
 ],
 "metadata": {
  "kernelspec": {
   "display_name": "Python 3.10.8 ('prembet')",
   "language": "python",
   "name": "python3"
  },
  "language_info": {
   "codemirror_mode": {
    "name": "ipython",
    "version": 3
   },
   "file_extension": ".py",
   "mimetype": "text/x-python",
   "name": "python",
   "nbconvert_exporter": "python",
   "pygments_lexer": "ipython3",
   "version": "3.10.8"
  },
  "orig_nbformat": 4,
  "vscode": {
   "interpreter": {
    "hash": "80dbf3264b35f295b8886831f41f303542dc3bcda82ada40f78cbbac707c4040"
   }
  }
 },
 "nbformat": 4,
 "nbformat_minor": 2
}
